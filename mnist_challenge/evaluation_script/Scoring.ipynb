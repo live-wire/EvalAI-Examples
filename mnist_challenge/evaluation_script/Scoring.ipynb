{
 "cells": [
  {
   "cell_type": "code",
   "execution_count": 1,
   "metadata": {},
   "outputs": [],
   "source": [
    "import numpy as np\n",
    "import pandas as pd\n"
   ]
  },
  {
   "cell_type": "code",
   "execution_count": 13,
   "metadata": {},
   "outputs": [
    {
     "name": "stdout",
     "output_type": "stream",
     "text": [
      "Score: 10.071428571428571\n"
     ]
    }
   ],
   "source": [
    "userfilename = \"Data/submission.csv\"\n",
    "answerfilename = \"Data/answers.csv\"\n",
    "\n",
    "user = pd.read_csv(userfilename)\n",
    "answers = pd.read_csv(answerfilename)\n",
    "\n",
    "matches = 0\n",
    "\n",
    "for i in range(0, len(user)):\n",
    "    if user.iloc[i]['label'] == answers.iloc[i]['label']:\n",
    "        matches = matches+1\n",
    "\n",
    "print(\"Score:\",(matches/len(user))*100)\n",
    "\n",
    "        \n",
    "    "
   ]
  },
  {
   "cell_type": "code",
   "execution_count": null,
   "metadata": {},
   "outputs": [],
   "source": []
  }
 ],
 "metadata": {
  "kernelspec": {
   "display_name": "virtualenvironment3",
   "language": "python",
   "name": "virtualenvironment3"
  },
  "language_info": {
   "codemirror_mode": {
    "name": "ipython",
    "version": 3
   },
   "file_extension": ".py",
   "mimetype": "text/x-python",
   "name": "python",
   "nbconvert_exporter": "python",
   "pygments_lexer": "ipython3",
   "version": "3.6.3"
  }
 },
 "nbformat": 4,
 "nbformat_minor": 2
}
